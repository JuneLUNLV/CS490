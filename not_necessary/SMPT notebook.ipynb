{
 "cells": [
  {
   "cell_type": "code",
   "execution_count": 1,
   "metadata": {
    "ExecuteTime": {
     "end_time": "2020-03-25T04:46:29.758804Z",
     "start_time": "2020-03-25T04:46:29.736809Z"
    }
   },
   "outputs": [],
   "source": [
    "import mySMTP as email\n",
    "email.login()"
   ]
  },
  {
   "cell_type": "code",
   "execution_count": 2,
   "metadata": {
    "ExecuteTime": {
     "end_time": "2020-03-25T04:46:40.270055Z",
     "start_time": "2020-03-25T04:46:30.761058Z"
    }
   },
   "outputs": [],
   "source": [
    "email.setRecipients('juneyanliang@gmail.com','johnsnow20171@gmail.com')\n",
    "email.setEmailSubjectAndContent(\"testing my python module1\",\"send from jupyter notebook1\")\n",
    "email.sendMail()"
   ]
  }
 ],
 "metadata": {
  "kernelspec": {
   "display_name": "Python 3",
   "language": "python",
   "name": "python3"
  },
  "language_info": {
   "codemirror_mode": {
    "name": "ipython",
    "version": 3
   },
   "file_extension": ".py",
   "mimetype": "text/x-python",
   "name": "python",
   "nbconvert_exporter": "python",
   "pygments_lexer": "ipython3",
   "version": "3.7.3"
  }
 },
 "nbformat": 4,
 "nbformat_minor": 4
}
